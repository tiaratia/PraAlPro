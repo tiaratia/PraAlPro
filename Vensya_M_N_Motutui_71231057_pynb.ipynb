{
  "nbformat": 4,
  "nbformat_minor": 0,
  "metadata": {
    "colab": {
      "provenance": []
    },
    "kernelspec": {
      "name": "python3",
      "display_name": "Python 3"
    },
    "language_info": {
      "name": "python"
    }
  },
  "cells": [
    {
      "cell_type": "code",
      "execution_count": 2,
      "metadata": {
        "colab": {
          "base_uri": "https://localhost:8080/"
        },
        "id": "mBg6Yoy-yVm9",
        "outputId": "30114a77-ac92-4b26-f4dc-24de03e3248d"
      },
      "outputs": [
        {
          "output_type": "stream",
          "name": "stdout",
          "text": [
            "156): kg50\n",
            "160:50\n",
            "Berat badan yang diperlukan untuk BMI 50.00 adalah 125000.00 kilogram.\n"
          ]
        }
      ],
      "source": [
        "#no 1\n",
        "def hitung_berat_badan(tinggi_badan, bmi_harap):\n",
        "    berat_badan = bmi_harap * (tinggi_badan ** 2)\n",
        "    return berat_badan\n",
        "\n",
        "def main():\n",
        "    tinggi_badan = float(input(\"156): kg\"))\n",
        "    bmi_harap = float(input(\"160:\"))\n",
        "\n",
        "    berat_badan_diperlukan = hitung_berat_badan(tinggi_badan, bmi_harap)\n",
        "    print(f\"Berat badan yang diperlukan untuk BMI {bmi_harap:.2f} adalah {berat_badan_diperlukan:.2f} kilogram.\")\n",
        "\n",
        "if __name__ == \"__main__\":\n",
        "    main()"
      ]
    },
    {
      "cell_type": "code",
      "source": [
        "#no 2\n",
        "def hitung_fungsi(x):\n",
        "    hasil = 2*x**3 + 2*x + 15*x\n",
        "    return hasil\n",
        "\n",
        "def main():\n",
        "    x = int(input(\"Masukkan nilai x (bilangan bulat): \"))\n",
        "    hasil_fungsi = hitung_fungsi(x)\n",
        "    print(\"Hasil fungsi f(x) adalah:\", hasil_fungsi)\n",
        "\n",
        "if __name__ == \"__main__\":\n",
        "    main()\n",
        "\n"
      ],
      "metadata": {
        "colab": {
          "base_uri": "https://localhost:8080/"
        },
        "id": "jGcbE_pHzg0W",
        "outputId": "23d2c00c-3a7e-4fb7-d6ad-02f3d5cf5ac5"
      },
      "execution_count": 3,
      "outputs": [
        {
          "output_type": "stream",
          "name": "stdout",
          "text": [
            "Masukkan nilai x (bilangan bulat): 10\n",
            "Hasil fungsi f(x) adalah: 2170\n"
          ]
        }
      ]
    },
    {
      "cell_type": "code",
      "source": [
        "#no 3\n",
        "def hitung_pendapatan(gaji_per_jam, jam_kerja_per_minggu):\n",
        "    pendapatan_sebelum_pajak = gaji_per_jam * jam_kerja_per_minggu * 5\n",
        "    pajak = 0.14 * pendapatan_sebelum_pajak\n",
        "    pendapatan_setelah_pajak = pendapatan_sebelum_pajak - pajak\n",
        "    belanja_baju_aksessoris = 0.1 * pendapatan_setelah_pajak\n",
        "    belanja_alat_tulis = 0.01 * pendapatan_setelah_pajak\n",
        "    sisa_uang = pendapatan_setelah_pajak - belanja_baju_aksessoris - belanja_alat_tulis\n",
        "    jumlah_sedekah = 0.25 * sisa_uang\n",
        "    dana_anak_yatim = 0.3 * jumlah_sedekah\n",
        "    dana_dhuafa = jumlah_sedekah - dana_anak_yatim\n",
        "\n",
        "    return pendapatan_sebelum_pajak, pendapatan_setelah_pajak, belanja_baju_aksessoris, belanja_alat_tulis, jumlah_sedekah, dana_anak_yatim, dana_dhuafa\n",
        "\n",
        "def main():\n",
        "    gaji_per_jam = float(input(\"Masukkan gaji per jam yang diinginkan: \"))\n",
        "    jam_kerja_per_minggu = int(input(\"Masukkan jumlah jam kerja per minggu: \"))\n",
        "\n",
        "    pendapatan_sebelum_pajak, pendapatan_setelah_pajak, belanja_baju_aksessoris, belanja_alat_tulis, jumlah_sedekah, dana_anak_yatim, dana_dhuafa = hitung_pendapatan(gaji_per_jam, jam_kerja_per_minggu)\n",
        "\n",
        "    print(\"1. Pendapatan Budi sebelum pembayaran pajak:\", pendapatan_sebelum_pajak)\n",
        "    print(\"2. Pendapatan Budi setelah pembayaran pajak:\", pendapatan_setelah_pajak)\n",
        "    print(\"3. Jumlah uang yang akan Budi habiskan untuk membeli pakaian dan aksesoris:\", belanja_baju_aksessoris)\n",
        "    print(\"4. Jumlah uang yang akan Budi habiskan untuk membeli alat tulis:\", belanja_alat_tulis)\n",
        "    print(\"5. Jumlah uang yang akan Budi sedekahkan:\", jumlah_sedekah)\n",
        "    print(\"6. Jumlah uang yang akan diterima anak yatim:\", dana_anak_yatim)\n",
        "    print(\"7. Jumlah uang yang akan diterima kaum dhuafa:\", dana_dhuafa)\n",
        "\n",
        "if __name__ == \"__main__\":\n",
        "    main()\n",
        "\n"
      ],
      "metadata": {
        "colab": {
          "base_uri": "https://localhost:8080/"
        },
        "id": "WjgWgJj8zItQ",
        "outputId": "3bdf8115-03a7-4dc1-e3aa-b93cac04131b"
      },
      "execution_count": 4,
      "outputs": [
        {
          "output_type": "stream",
          "name": "stdout",
          "text": [
            "Masukkan gaji per jam yang diinginkan: 500.00\n",
            "Masukkan jumlah jam kerja per minggu: 8\n",
            "1. Pendapatan Budi sebelum pembayaran pajak: 20000.0\n",
            "2. Pendapatan Budi setelah pembayaran pajak: 17200.0\n",
            "3. Jumlah uang yang akan Budi habiskan untuk membeli pakaian dan aksesoris: 1720.0\n",
            "4. Jumlah uang yang akan Budi habiskan untuk membeli alat tulis: 172.0\n",
            "5. Jumlah uang yang akan Budi sedekahkan: 3827.0\n",
            "6. Jumlah uang yang akan diterima anak yatim: 1148.1\n",
            "7. Jumlah uang yang akan diterima kaum dhuafa: 2678.9\n"
          ]
        }
      ]
    }
  ]
}